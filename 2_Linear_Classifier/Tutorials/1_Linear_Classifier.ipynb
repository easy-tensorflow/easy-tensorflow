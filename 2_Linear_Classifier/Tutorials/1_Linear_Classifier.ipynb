{
 "cells": [
  {
   "cell_type": "markdown",
   "metadata": {},
   "source": [
    "# Linear Classifier (Logistic Regression)\n",
    "\n",
    "# Introduction\n",
    "\n",
    "In this tutorial, we'll create a simple linear  classifier in TensorFlow. We will implement this model for classifying images of hand-written digits from the so-called MNIST data-set. The structure of the network is presented in the following figure.\n",
    "\n",
    "\n",
    "<img src=\"files/files/linear_classifier.png\">\n",
    "\n",
    "\n",
    "___Fig. 1-___ Sample Logistic Regression structure implemented for classifying MNIST digits \n",
    "\n",
    "You should be familiar with basic linear algebra, Machine Learning and classification. To specifically learn about the linear classifiers, read [this](https://cs231n.github.io/linear-classify/) article.\n",
    "\n",
    "Technically, in a linear model we will use the simplest function to predict the label $\\mathbf{y_i}$ of the image $\\mathbf{x_i}$. We'll do so by using a linear mapping like $f(\\mathbf{x_i}, \\mathbf{W}, \\mathbf{b})=\\mathbf{W}\\mathbf{x_i}+\\mathbf{b}$ where $\\mathbf{W}$ and $\\mathbf{b}$ are called weight matrix and bias vector respectively. \n",
    " \n",
    "\n",
    "\n",
    "## 0. Import the required libraries:\n",
    "We will start with importing the required Python libraries. "
   ]
  },
  {
   "cell_type": "code",
   "execution_count": 1,
   "metadata": {},
   "outputs": [],
   "source": [
    "# imports\n",
    "import tensorflow as tf\n",
    "import numpy as np\n",
    "import matplotlib.pyplot as plt"
   ]
  },
  {
   "cell_type": "markdown",
   "metadata": {},
   "source": [
    "## 1. Load the MNIST data\n",
    "\n",
    "For this tutorial we use the MNIST dataset. MNIST is a dataset of handwritten digits. If you are into machine learning, you might have heard of this dataset by now. MNIST is kind of benchmark of datasets for deep learning and is easily accesible through Tensorflow\n",
    "\n",
    "The dataset contains $55,000$ examples for training, $5,000$ examples for validation and $10,000$ examples for testing. The digits have been size-normalized and centered in a fixed-size image ($28\\times28$ pixels) with values from $0$ to $1$. For simplicity, each image has been flattened and converted to a 1-D numpy array of $784$ features ($28\\times28$).\n",
    "\n",
    "<img src=\"files/files/mnist.png\">\n",
    "\n",
    "\n",
    "If you want to know more about the MNIST dataset you can check __Yann Lecun__'s [website](http://yann.lecun.com/exdb/mnist/).\n",
    "\n",
    "### 1.1. Data dimension\n",
    "Here, we specify the dimensions of the images which will be used in several places in the code below. Defining these variables makes it easier (compared with using hard-coded number all throughout the code) to modify them later. Ideally these would be inferred from the data that has been read, but here we will just write the numbers.\n",
    "\n",
    "It's important to note that in a linear model, we have to flatten the input images into a vector. Here, each of the $28\\times28$ images are flattened into a $1\\times784$ vector. "
   ]
  },
  {
   "cell_type": "code",
   "execution_count": 2,
   "metadata": {},
   "outputs": [],
   "source": [
    "img_h = img_w = 28             # MNIST images are 28x28\n",
    "img_size_flat = img_h * img_w  # 28x28=784, the total number of pixels\n",
    "n_classes = 10                 # Number of classes, one class per digit"
   ]
  },
  {
   "cell_type": "markdown",
   "metadata": {},
   "source": [
    "### 1.2. Helper functions to load the MNIST data\n",
    "\n",
    "In this section, we'll write the function which automatically loads the MNIST data and returns it in our desired shape and format. If you wanna learn more about loading your data, you may read our __How to Load Your Data in TensorFlow __ tutorial which explains all the available methods to load your own data; no matter how big it is. \n",
    "\n",
    "Here, we'll simply write a function (__`load_data`__) which has two modes: train (which loads the training and validation images and their corresponding labels) and test (which loads the test images and their corresponding labels). You can replace this function to use your own dataset. \n",
    "\n",
    "Other than a function for loading the images and corresponding labels, we define two more functions:\n",
    "\n",
    "1. __randomize__: which randomizes the order of images and their labels. This is important to make sure that the input images are sorted in a completely random order. Moreover, at the beginning of each __epoch__, we will re-randomize the order of data samples to make sure that the trained model is not sensitive to the order of data.\n",
    "\n",
    "2. __get_next_batch__: which only selects a few number of images determined by the batch_size variable (if you don't know why, read about Stochastic Gradient Method)\n"
   ]
  },
  {
   "cell_type": "code",
   "execution_count": 3,
   "metadata": {},
   "outputs": [],
   "source": [
    "def load_data(mode='train'):\n",
    "    \"\"\"\n",
    "    Function to (download and) load the MNIST data\n",
    "    :param mode: train or test\n",
    "    :return: images and the corresponding labels\n",
    "    \"\"\"\n",
    "    from tensorflow.examples.tutorials.mnist import input_data\n",
    "    mnist = input_data.read_data_sets(\"MNIST_data/\", one_hot=True)\n",
    "    if mode == 'train':\n",
    "        x_train, y_train, x_valid, y_valid = mnist.train.images, mnist.train.labels, \\\n",
    "                                             mnist.validation.images, mnist.validation.labels\n",
    "        return x_train, y_train, x_valid, y_valid\n",
    "    elif mode == 'test':\n",
    "        x_test, y_test = mnist.test.images, mnist.test.labels\n",
    "    return x_test, y_test\n",
    "\n",
    "\n",
    "def randomize(x, y):\n",
    "    \"\"\" Randomizes the order of data samples and their corresponding labels\"\"\"\n",
    "    permutation = np.random.permutation(y.shape[0])\n",
    "    shuffled_x = x[permutation, :]\n",
    "    shuffled_y = y[permutation]\n",
    "    return shuffled_x, shuffled_y\n",
    "\n",
    "\n",
    "def get_next_batch(x, y, start, end):\n",
    "    x_batch = x[start:end]\n",
    "    y_batch = y[start:end]\n",
    "    return x_batch, y_batch"
   ]
  },
  {
   "cell_type": "markdown",
   "metadata": {},
   "source": [
    "### 1.3. Load the data and display the sizes\n",
    "Now we can use the defined helper function in __train__ mode which loads the train and validation images and their corresponding labels. We'll also display their sizes:"
   ]
  },
  {
   "cell_type": "code",
   "execution_count": 4,
   "metadata": {},
   "outputs": [
    {
     "name": "stdout",
     "output_type": "stream",
     "text": [
      "Successfully downloaded train-images-idx3-ubyte.gz 9912422 bytes.\n",
      "Extracting MNIST_data/train-images-idx3-ubyte.gz\n",
      "Successfully downloaded train-labels-idx1-ubyte.gz 28881 bytes.\n",
      "Extracting MNIST_data/train-labels-idx1-ubyte.gz\n",
      "Successfully downloaded t10k-images-idx3-ubyte.gz 1648877 bytes.\n",
      "Extracting MNIST_data/t10k-images-idx3-ubyte.gz\n",
      "Successfully downloaded t10k-labels-idx1-ubyte.gz 4542 bytes.\n",
      "Extracting MNIST_data/t10k-labels-idx1-ubyte.gz\n",
      "Size of:\n",
      "- Training-set:\t\t55000\n",
      "- Validation-set:\t5000\n"
     ]
    }
   ],
   "source": [
    "# Load MNIST data\n",
    "x_train, y_train, x_valid, y_valid = load_data(mode='train')\n",
    "print(\"Size of:\")\n",
    "print(\"- Training-set:\\t\\t{}\".format(len(y_train)))\n",
    "print(\"- Validation-set:\\t{}\".format(len(y_valid)))"
   ]
  },
  {
   "cell_type": "markdown",
   "metadata": {},
   "source": [
    "To get a better sense of the data, let's checkout the shapes of the loaded arrays."
   ]
  },
  {
   "cell_type": "code",
   "execution_count": 5,
   "metadata": {},
   "outputs": [
    {
     "name": "stdout",
     "output_type": "stream",
     "text": [
      "x_train:\t(55000, 784)\n",
      "y_train:\t(55000, 10)\n",
      "x_train:\t(5000, 784)\n",
      "y_valid:\t(5000, 10)\n"
     ]
    }
   ],
   "source": [
    "print('x_train:\\t{}'.format(x_train.shape))\n",
    "print('y_train:\\t{}'.format(y_train.shape))\n",
    "print('x_train:\\t{}'.format(x_valid.shape))\n",
    "print('y_valid:\\t{}'.format(y_valid.shape))"
   ]
  },
  {
   "cell_type": "markdown",
   "metadata": {},
   "source": [
    "As you can see, __`x_train`__ and __`x_valid`__ arrays contain $55000$ and $5000$ flattened images ( of size  $28\\times28=784$  values). __`y_train`__ and __`y_valid`__ contain the corresponding labels of the images in the training and validation set respectively. \n",
    "\n",
    "Based on the dimesnion of the arrays, for each image, we have 10 values as its label. Why? This technique is called __One-Hot Encoding__. This means the labels have been converted from a single number to a vector whose length equals the number of possible classes. All elements of the vector are zero except for the $i^{th}$ element which is one and means the class is $i$. For example, the One-Hot encoded labels for the first 5 images in the validation set are:"
   ]
  },
  {
   "cell_type": "code",
   "execution_count": 6,
   "metadata": {},
   "outputs": [
    {
     "data": {
      "text/plain": [
       "array([[ 0.,  0.,  0.,  0.,  0.,  1.,  0.,  0.,  0.,  0.],\n",
       "       [ 1.,  0.,  0.,  0.,  0.,  0.,  0.,  0.,  0.,  0.],\n",
       "       [ 0.,  0.,  0.,  0.,  1.,  0.,  0.,  0.,  0.,  0.],\n",
       "       [ 0.,  1.,  0.,  0.,  0.,  0.,  0.,  0.,  0.,  0.],\n",
       "       [ 0.,  0.,  0.,  0.,  0.,  0.,  0.,  0.,  0.,  1.]])"
      ]
     },
     "execution_count": 6,
     "metadata": {},
     "output_type": "execute_result"
    }
   ],
   "source": [
    "y_valid[:5, :]"
   ]
  },
  {
   "cell_type": "markdown",
   "metadata": {},
   "source": [
    "where the $10$ values in each row represents the label assigned to that partiular image. "
   ]
  },
  {
   "cell_type": "markdown",
   "metadata": {},
   "source": [
    "## 2. Hyperparameters\n",
    "\n",
    "Here, we have about $55,000$ images in our training set. It takes a long time to calculate the gradient of the model using all these images. We therefore use __Stochastic Gradient Descent__ which only uses a small batch of images in each iteration of the optimizer. Let's define some of the terms usually used in this context:\n",
    "\n",
    "- __epoch__: one forward pass and one backward pass of __all__ the training examples.\n",
    "- __batch size__: the number of training examples in one forward/backward pass. The higher the batch size, the more memory space you'll need.\n",
    "- __iteration__: one forward pass and one backward pass of __one batch of images__ the training examples."
   ]
  },
  {
   "cell_type": "code",
   "execution_count": 7,
   "metadata": {},
   "outputs": [],
   "source": [
    "# Hyper-parameters\n",
    "epochs = 10             # Total number of training epochs\n",
    "batch_size = 100        # Training batch size\n",
    "display_freq = 100      # Frequency of displaying the training results\n",
    "learning_rate = 0.001   # The optimization initial learning rate"
   ]
  },
  {
   "cell_type": "markdown",
   "metadata": {},
   "source": [
    "Given the above definitions, each epoch consists of $55,000/100=550$ iterations."
   ]
  },
  {
   "cell_type": "markdown",
   "metadata": {},
   "source": [
    "## 3. Helper functions for creating the network\n",
    "\n",
    "\n",
    "### 3.1. Helper functions for creating new variables\n",
    "\n",
    "As explained (and also illustrated in Fig. 1), we need to define two variables $\\mathbf{W}$ and $\\mathbf{b}$ to construt our linear model. These are generally called model parameters and as explained in our [Tensor Types](https://github.com/easy-tensorflow/easy-tensorflow/blob/master/1_TensorFlow_Basics/Tutorials/2_Tensor_Types.ipynb) tutorial, we use __Tensorflow Variables__ of proper size and initialization to define them.The following functions are written to be later used for generating the weight and bias variables of the desired shape:"
   ]
  },
  {
   "cell_type": "code",
   "execution_count": 8,
   "metadata": {},
   "outputs": [],
   "source": [
    "def weight_variable(shape):\n",
    "    \"\"\"\n",
    "    Create a weight variable with appropriate initialization\n",
    "    :param name: weight name\n",
    "    :param shape: weight shape\n",
    "    :return: initialized weight variable\n",
    "    \"\"\"\n",
    "    initer = tf.truncated_normal_initializer(stddev=0.01)\n",
    "    return tf.get_variable('W',\n",
    "                           dtype=tf.float32,\n",
    "                           shape=shape,\n",
    "                           initializer=initer)\n",
    "\n",
    "\n",
    "def bias_variable(shape):\n",
    "    \"\"\"\n",
    "    Create a bias variable with appropriate initialization\n",
    "    :param name: bias variable name\n",
    "    :param shape: bias variable shape\n",
    "    :return: initialized bias variable\n",
    "    \"\"\"\n",
    "    initial = tf.constant(0., shape=shape, dtype=tf.float32)\n",
    "    return tf.get_variable('b',\n",
    "                           dtype=tf.float32,\n",
    "                           initializer=initial)"
   ]
  },
  {
   "cell_type": "markdown",
   "metadata": {},
   "source": [
    "## 4. Create the network graph\n",
    "\n",
    "Now that we have defined all the helped functions to create our model, we can create our network.\n",
    "\n",
    "### 4.1. Placeholders for the inputs (x) and corresponding labels (y)\n",
    "\n",
    "First we need to define the proper tensors to feed in the input values to our model. As explained in the [Tensor Types](https://github.com/easy-tensorflow/easy-tensorflow/blob/master/1_TensorFlow_Basics/Tutorials/2_Tensor_Types.ipynb) tutorial, placeholder variable is the suitable choice for the input images and corresponding labels. This allows us to change the inputs (images and labels) to the TensorFlow graph."
   ]
  },
  {
   "cell_type": "code",
   "execution_count": 9,
   "metadata": {},
   "outputs": [],
   "source": [
    "# Create the graph for the linear model\n",
    "# Placeholders for inputs (x) and outputs(y)\n",
    "x = tf.placeholder(tf.float32, shape=[None, img_size_flat], name='X')\n",
    "y = tf.placeholder(tf.float32, shape=[None, n_classes], name='Y')"
   ]
  },
  {
   "cell_type": "markdown",
   "metadata": {},
   "source": [
    "Placeholder __`x`__ is defined for the images; its data-type is set to __`float32`__ and the shape is set to __[None, img_size_flat]__, where __`None`__ means that the tensor may hold an arbitrary number of images with each image being a vector of length __`img_size_flat`__.\n",
    "\n",
    "\n",
    "Next we have __`y`__ which is the placeholder variable for the true labels associated with the images that were input in the placeholder variable __`x`__. The shape of this placeholder variable is __[None, num_classes]__ which means it may hold an arbitrary number of labels and each label is a vector of length __`num_classes`__ which is $10$ in this case."
   ]
  },
  {
   "cell_type": "markdown",
   "metadata": {},
   "source": [
    "### 4.2. Create the model structure\n",
    "\n",
    "After creating the proper input, we have to pass it to our model. Since we have a linear classifier, we will have __`output_logits`__$=\\mathbf{W}\\times \\mathbf{x} + \\mathbf{b}$ and we will use __`tf.nn.softmax`__ to normalize the __`output_logits`__ between $0$ and $1$ as probabilities (predictions) of samples."
   ]
  },
  {
   "cell_type": "code",
   "execution_count": 10,
   "metadata": {},
   "outputs": [],
   "source": [
    "# Create weight matrix initialized randomely from N~(0, 0.01)\n",
    "W = weight_variable(shape=[img_size_flat, n_classes])\n",
    "\n",
    "# Create bias vector initialized as zero\n",
    "b = bias_variable(shape=[n_classes])\n",
    "\n",
    "output_logits = tf.matmul(x, W) + b"
   ]
  },
  {
   "cell_type": "markdown",
   "metadata": {},
   "source": [
    "### 4.3. Define the loss function, optimizer, accuracy, and predicted class\n",
    "\n",
    "After creating the network, we have to calculate the loss and optimize it. Also, to evaluate our model, we have to calculate the `correct_prediction` and `accuracy`. We will also define `cls_prediction` to visualize our results. 
   ]
  },
  {
   "cell_type": "code",
   "execution_count": 11,
   "metadata": {},
   "outputs": [
    {
     "name": "stdout",
     "output_type": "stream",
     "text": [
      "WARNING:tensorflow:From <ipython-input-11-c1f11071639f>:2: softmax_cross_entropy_with_logits (from tensorflow.python.ops.nn_ops) is deprecated and will be removed in a future version.\n",
      "Instructions for updating:\n",
      "\n",
      "Future major versions of TensorFlow will allow gradients to flow\n",
      "into the labels input on backprop by default.\n",
      "\n",
      "See tf.nn.softmax_cross_entropy_with_logits_v2.\n",
      "\n"
     ]
    }
   ],
   "source": [
    "# Define the loss function, optimizer, and accuracy\n",
    "loss = tf.reduce_mean(tf.nn.softmax_cross_entropy_with_logits(labels=y, logits=output_logits), name='loss')\n",
    "optimizer = tf.train.AdamOptimizer(learning_rate=learning_rate, name='Adam-op').minimize(loss)\n",
    "correct_prediction = tf.equal(tf.argmax(output_logits, 1), tf.argmax(y, 1), name='correct_pred')\n",
    "accuracy = tf.reduce_mean(tf.cast(correct_prediction, tf.float32), name='accuracy')\n",
    "\n",
    "# Model predictions\n",
    "cls_prediction = tf.argmax(output_logits, axis=1, name='predictions')"
   ]
  },
  {
   "cell_type": "markdown",
   "metadata": {},
   "source": [
    "### 4.4. Initialize all variables\n",
    "\n",
    "As explained in the [Tensor Types](https://github.com/easy-tensorflow/easy-tensorflow/blob/master/1_TensorFlow_Basics/Tutorials/2_Tensor_Types.ipynb) tutorial, we have to invoke a variable initializer operation to initialize all variables."
   ]
  },
  {
   "cell_type": "code",
   "execution_count": 12,
   "metadata": {},
   "outputs": [],
   "source": [
    "# Creating the op for initializing all variables\n",
    "init = tf.global_variables_initializer()"
   ]
  },
  {
   "cell_type": "markdown",
   "metadata": {},
   "source": [
    "## 5. Train\n",
    "\n",
    "After creating the graph, it is time to train our model. To train the model, As explained in the [Graph_and_Session](https://github.com/easy-tensorflow/easy-tensorflow/blob/master/1_TensorFlow_Basics/Tutorials/1_Graph_and_Session.ipynb) tutorial, we have to create a session and run the graph in our session."
   ]
  },
  {
   "cell_type": "code",
   "execution_count": 13,
   "metadata": {
    "scrolled": true
   },
   "outputs": [
    {
     "name": "stdout",
     "output_type": "stream",
     "text": [
      "Training epoch: 1\n",
      "iter   0:\t Loss=2.22,\tTraining Accuracy=24.0%\n",
      "iter 100:\t Loss=0.78,\tTraining Accuracy=84.0%\n",
      "iter 200:\t Loss=0.53,\tTraining Accuracy=89.0%\n",
      "iter 300:\t Loss=0.42,\tTraining Accuracy=89.0%\n",
      "iter 400:\t Loss=0.36,\tTraining Accuracy=90.0%\n",
      "iter 500:\t Loss=0.33,\tTraining Accuracy=92.0%\n",
      "---------------------------------------------------------\n",
      "Epoch: 1, validation loss: 0.40, validation accuracy: 88.7%\n",
      "---------------------------------------------------------\n",
      "Training epoch: 2\n",
      "iter   0:\t Loss=0.25,\tTraining Accuracy=95.0%\n",
      "iter 100:\t Loss=0.35,\tTraining Accuracy=88.0%\n",
      "iter 200:\t Loss=0.31,\tTraining Accuracy=91.0%\n",
      "iter 300:\t Loss=0.38,\tTraining Accuracy=87.0%\n",
      "iter 400:\t Loss=0.37,\tTraining Accuracy=91.0%\n",
      "iter 500:\t Loss=0.35,\tTraining Accuracy=91.0%\n",
      "---------------------------------------------------------\n",
      "Epoch: 2, validation loss: 0.35, validation accuracy: 90.1%\n",
      "---------------------------------------------------------\n",
      "Training epoch: 3\n",
      "iter   0:\t Loss=0.43,\tTraining Accuracy=89.0%\n",
      "iter 100:\t Loss=0.29,\tTraining Accuracy=92.0%\n",
      "iter 200:\t Loss=0.30,\tTraining Accuracy=89.0%\n",
      "iter 300:\t Loss=0.30,\tTraining Accuracy=94.0%\n",
      "iter 400:\t Loss=0.24,\tTraining Accuracy=92.0%\n",
      "iter 500:\t Loss=0.21,\tTraining Accuracy=94.0%\n",
      "---------------------------------------------------------\n",
      "Epoch: 3, validation loss: 0.32, validation accuracy: 90.5%\n",
      "---------------------------------------------------------\n",
      "Training epoch: 4\n",
      "iter   0:\t Loss=0.42,\tTraining Accuracy=88.0%\n",
      "iter 100:\t Loss=0.33,\tTraining Accuracy=91.0%\n",
      "iter 200:\t Loss=0.27,\tTraining Accuracy=92.0%\n",
      "iter 300:\t Loss=0.20,\tTraining Accuracy=94.0%\n",
      "iter 400:\t Loss=0.17,\tTraining Accuracy=95.0%\n",
      "iter 500:\t Loss=0.30,\tTraining Accuracy=90.0%\n",
      "---------------------------------------------------------\n",
      "Epoch: 4, validation loss: 0.31, validation accuracy: 90.7%\n",
      "---------------------------------------------------------\n",
      "Training epoch: 5\n",
      "iter   0:\t Loss=0.25,\tTraining Accuracy=94.0%\n",
      "iter 100:\t Loss=0.25,\tTraining Accuracy=94.0%\n",
      "iter 200:\t Loss=0.32,\tTraining Accuracy=94.0%\n",
      "iter 300:\t Loss=0.27,\tTraining Accuracy=92.0%\n",
      "iter 400:\t Loss=0.30,\tTraining Accuracy=91.0%\n",
      "iter 500:\t Loss=0.32,\tTraining Accuracy=90.0%\n",
      "---------------------------------------------------------\n",
      "Epoch: 5, validation loss: 0.30, validation accuracy: 91.3%\n",
      "---------------------------------------------------------\n",
      "Training epoch: 6\n",
      "iter   0:\t Loss=0.28,\tTraining Accuracy=92.0%\n",
      "iter 100:\t Loss=0.40,\tTraining Accuracy=89.0%\n",
      "iter 200:\t Loss=0.25,\tTraining Accuracy=92.0%\n",
      "iter 300:\t Loss=0.29,\tTraining Accuracy=91.0%\n",
      "iter 400:\t Loss=0.31,\tTraining Accuracy=92.0%\n",
      "iter 500:\t Loss=0.23,\tTraining Accuracy=91.0%\n",
      "---------------------------------------------------------\n",
      "Epoch: 6, validation loss: 0.29, validation accuracy: 90.9%\n",
      "---------------------------------------------------------\n",
      "Training epoch: 7\n",
      "iter   0:\t Loss=0.22,\tTraining Accuracy=97.0%\n",
      "iter 100:\t Loss=0.16,\tTraining Accuracy=95.0%\n",
      "iter 200:\t Loss=0.20,\tTraining Accuracy=95.0%\n",
      "iter 300:\t Loss=0.33,\tTraining Accuracy=88.0%\n",
      "iter 400:\t Loss=0.26,\tTraining Accuracy=91.0%\n",
      "iter 500:\t Loss=0.23,\tTraining Accuracy=93.0%\n",
      "---------------------------------------------------------\n",
      "Epoch: 7, validation loss: 0.29, validation accuracy: 91.5%\n",
      "---------------------------------------------------------\n",
      "Training epoch: 8\n",
      "iter   0:\t Loss=0.32,\tTraining Accuracy=92.0%\n",
      "iter 100:\t Loss=0.28,\tTraining Accuracy=93.0%\n",
      "iter 200:\t Loss=0.26,\tTraining Accuracy=94.0%\n",
      "iter 300:\t Loss=0.21,\tTraining Accuracy=94.0%\n",
      "iter 400:\t Loss=0.27,\tTraining Accuracy=93.0%\n",
      "iter 500:\t Loss=0.24,\tTraining Accuracy=94.0%\n",
      "---------------------------------------------------------\n",
      "Epoch: 8, validation loss: 0.29, validation accuracy: 91.8%\n",
      "---------------------------------------------------------\n",
      "Training epoch: 9\n",
      "iter   0:\t Loss=0.24,\tTraining Accuracy=93.0%\n",
      "iter 100:\t Loss=0.40,\tTraining Accuracy=90.0%\n",
      "iter 200:\t Loss=0.24,\tTraining Accuracy=94.0%\n",
      "iter 300:\t Loss=0.27,\tTraining Accuracy=92.0%\n",
      "iter 400:\t Loss=0.25,\tTraining Accuracy=93.0%\n",
      "iter 500:\t Loss=0.11,\tTraining Accuracy=98.0%\n",
      "---------------------------------------------------------\n",
      "Epoch: 9, validation loss: 0.29, validation accuracy: 91.3%\n",
      "---------------------------------------------------------\n",
      "Training epoch: 10\n",
      "iter   0:\t Loss=0.19,\tTraining Accuracy=95.0%\n",
      "iter 100:\t Loss=0.29,\tTraining Accuracy=95.0%\n",
      "iter 200:\t Loss=0.28,\tTraining Accuracy=86.0%\n",
      "iter 300:\t Loss=0.47,\tTraining Accuracy=87.0%\n",
      "iter 400:\t Loss=0.16,\tTraining Accuracy=98.0%\n",
      "iter 500:\t Loss=0.19,\tTraining Accuracy=94.0%\n",
      "---------------------------------------------------------\n",
      "Epoch: 10, validation loss: 0.28, validation accuracy: 91.4%\n",
      "---------------------------------------------------------\n"
     ]
    }
   ],
   "source": [
    "# Create an interactive session (to keep the session in the other cells)\n",
    "sess = tf.InteractiveSession()\n",
    "# Initialize all variables\n",
    "sess.run(init)\n",
    "# Number of training iterations in each epoch\n",
    "num_tr_iter = int(len(y_train) / batch_size)\n",
    "for epoch in range(epochs):\n",
    "    print('Training epoch: {}'.format(epoch + 1))\n",
    "    # Randomly shuffle the training data at the beginning of each epoch \n",
    "    x_train, y_train = randomize(x_train, y_train)\n",
    "    for iteration in range(num_tr_iter):\n",
    "        start = iteration * batch_size\n",
    "        end = (iteration + 1) * batch_size\n",
    "        x_batch, y_batch = get_next_batch(x_train, y_train, start, end)\n",
    "\n",
    "        # Run optimization op (backprop)\n",
    "        feed_dict_batch = {x: x_batch, y: y_batch}\n",
    "        sess.run(optimizer, feed_dict=feed_dict_batch)\n",
    "\n",
    "        if iteration % display_freq == 0:\n",
    "            # Calculate and display the batch loss and accuracy\n",
    "            loss_batch, acc_batch = sess.run([loss, accuracy],\n",
    "                                             feed_dict=feed_dict_batch)\n",
    "\n",
    "            print(\"iter {0:3d}:\\t Loss={1:.2f},\\tTraining Accuracy={2:.01%}\".\n",
    "                  format(iteration, loss_batch, acc_batch))\n",
    "\n",
    "    # Run validation after every epoch\n",
    "    feed_dict_valid = {x: x_valid[:1000], y: y_valid[:1000]}\n",
    "    loss_valid, acc_valid = sess.run([loss, accuracy], feed_dict=feed_dict_valid)\n",
    "    print('---------------------------------------------------------')\n",
    "    print(\"Epoch: {0}, validation loss: {1:.2f}, validation accuracy: {2:.01%}\".\n",
    "          format(epoch + 1, loss_valid, acc_valid))\n",
    "    print('---------------------------------------------------------')"
   ]
  },
  {
   "cell_type": "markdown",
   "metadata": {},
   "source": [
    "## 6. Test\n",
    "\n",
    "After the training is done, we have to test our model to see how good it performs on a new dataset. There are multiple approaches to for this purpose. We will use two different methods.\n",
    "\n",
    "## 6.1. Accuracy\n",
    "One way that we can evaluate our model is reporting the accuracy on the test set."
   ]
  },
  {
   "cell_type": "code",
   "execution_count": 14,
   "metadata": {},
   "outputs": [
    {
     "name": "stdout",
     "output_type": "stream",
     "text": [
      "Extracting MNIST_data/train-images-idx3-ubyte.gz\n",
      "Extracting MNIST_data/train-labels-idx1-ubyte.gz\n",
      "Extracting MNIST_data/t10k-images-idx3-ubyte.gz\n",
      "Extracting MNIST_data/t10k-labels-idx1-ubyte.gz\n",
      "---------------------------------------------------------\n",
      "Test loss: 0.27, test accuracy: 91.7%\n",
      "---------------------------------------------------------\n"
     ]
    }
   ],
   "source": [
    "# Test the network after training\n",
    "# Accuracy\n",
    "x_test, y_test = load_data(mode='test')\n",
    "feed_dict_test = {x: x_test[:1000], y: y_test[:1000]}\n",
    "loss_test, acc_test = sess.run([loss, accuracy], feed_dict=feed_dict_test)\n",
    "print('---------------------------------------------------------')\n",
    "print(\"Test loss: {0:.2f}, test accuracy: {1:.01%}\".format(loss_test, acc_test))\n",
    "print('---------------------------------------------------------')"
   ]
  },
  {
   "cell_type": "markdown",
   "metadata": {},
   "source": [
    "## 6.2. plot some results\n",
    "Another way to evaluate the model is to visualize the input and the model results and compare them with the true label of the input. This is advantages in numerous ways. For example, even if you get a decent accuracy, when you plot the results, you might see all the samples have been classified in one class. Another example is when you plot, you can have a rough idea on which examples your model failed. Let's define the helper functions to plot some correct and missclassified examples.\n",
    "\n",
    "### 6.2.1 Helper functions for plotting the results"
   ]
  },
  {
   "cell_type": "code",
   "execution_count": 15,
   "metadata": {},
   "outputs": [],
   "source": [
    "def plot_images(images, cls_true, cls_pred=None, title=None):\n",
    "    \"\"\"\n",
    "    Create figure with 3x3 sub-plots.\n",
    "    :param images: array of images to be plotted, (9, img_h*img_w)\n",
    "    :param cls_true: corresponding true labels (9,)\n",
    "    :param cls_pred: corresponding true labels (9,)\n",
    "    \"\"\"\n",
    "    fig, axes = plt.subplots(3, 3, figsize=(9, 9))\n",
    "    fig.subplots_adjust(hspace=0.3, wspace=0.3)\n",
    "    for i, ax in enumerate(axes.flat):\n",
    "        # Plot image.\n",
    "        ax.imshow(images[i].reshape(28, 28), cmap='binary')\n",
    "\n",
    "        # Show true and predicted classes.\n",
    "        if cls_pred is None:\n",
    "            ax_title = \"True: {0}\".format(cls_true[i])\n",
    "        else:\n",
    "            ax_title = \"True: {0}, Pred: {1}\".format(cls_true[i], cls_pred[i])\n",
    "\n",
    "        ax.set_title(ax_title)\n",
    "\n",
    "        # Remove ticks from the plot.\n",
    "        ax.set_xticks([])\n",
    "        ax.set_yticks([])\n",
    "\n",
    "    if title:\n",
    "        plt.suptitle(title, size=20)\n",
    "    plt.show(block=False)\n",
    "\n",
    "\n",
    "def plot_example_errors(images, cls_true, cls_pred, title=None):\n",
    "    \"\"\"\n",
    "    Function for plotting examples of images that have been mis-classified\n",
    "    :param images: array of all images, (#imgs, img_h*img_w)\n",
    "    :param cls_true: corresponding true labels, (#imgs,)\n",
    "    :param cls_pred: corresponding predicted labels, (#imgs,)\n",
    "    \"\"\"\n",
    "    # Negate the boolean array.\n",
    "    incorrect = np.logical_not(np.equal(cls_pred, cls_true))\n",
    "\n",
    "    # Get the images from the test-set that have been\n",
    "    # incorrectly classified.\n",
    "    incorrect_images = images[incorrect]\n",
    "\n",
    "    # Get the true and predicted classes for those images.\n",
    "    cls_pred = cls_pred[incorrect]\n",
    "    cls_true = cls_true[incorrect]\n",
    "\n",
    "    # Plot the first 9 images.\n",
    "    plot_images(images=incorrect_images[0:9],\n",
    "                cls_true=cls_true[0:9],\n",
    "                cls_pred=cls_pred[0:9],\n",
    "                title=title)"
   ]
  },
  {
   "cell_type": "markdown",
   "metadata": {},
   "source": [
    "### 6.2.2 Visualize correct and missclassified examples"
   ]
  },
  {
   "cell_type": "code",
   "execution_count": 16,
   "metadata": {},
   "outputs": [
    {
     "data": {
      "image/png": "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\n",
      "text/plain": [
       "<matplotlib.figure.Figure at 0xefad7f0>"
      ]
     },
     "metadata": {},
     "output_type": "display_data"
    },
    {
     "data": {
      "image/png": "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\n",
      "text/plain": [
       "<matplotlib.figure.Figure at 0xefad6d8>"
      ]
     },
     "metadata": {},
     "output_type": "display_data"
    }
   ],
   "source": [
    "# Plot some of the correct and misclassified examples\n",
    "cls_pred = sess.run(cls_prediction, feed_dict=feed_dict_test)\n",
    "cls_true = np.argmax(y_test[:1000], axis=1)\n",
    "plot_images(x_test, cls_true, cls_pred, title='Correct Examples')\n",
    "plot_example_errors(x_test[:1000], cls_true, cls_pred, title='Misclassified Examples')\n",
    "plt.show()"
   ]
  },
  {
   "cell_type": "markdown",
   "metadata": {},
   "source": [
    "After we finished, we have to close the __`session`__ to free the memory. We could have also used:\n",
    "```python\n",
    "with tf.Session as sess:\n",
    "    ...\n",
    "```\n",
    "\n",
    "Please check our [Graph_and_Session](https://github.com/easy-tensorflow/easy-tensorflow/blob/master/1_TensorFlow_Basics/Tutorials/1_Graph_and_Session.ipynb) tutorial if you do not know the differences between these two implementations.\n",
    "            "
   ]
  },
  {
   "cell_type": "code",
   "execution_count": 17,
   "metadata": {},
   "outputs": [],
   "source": [
    "sess.close()"
   ]
  },
  {
   "cell_type": "markdown",
   "metadata": {},
   "source": [
    "Thanks for reading! If you have any question or doubt, feel free to leave a comment in our [website](http://easy-tensorflow.com/)."
   ]
  }
 ],
 "metadata": {
  "kernelspec": {
   "display_name": "Python 3",
   "language": "python",
   "name": "python3"
  },
  "language_info": {
   "codemirror_mode": {
    "name": "ipython",
    "version": 3
   },
   "file_extension": ".py",
   "mimetype": "text/x-python",
   "name": "python",
   "nbconvert_exporter": "python",
   "pygments_lexer": "ipython3",
   "version": "3.5.4"
  }
 },
 "nbformat": 4,
 "nbformat_minor": 1
}
